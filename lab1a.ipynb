{
 "cells": [
  {
   "cell_type": "code",
   "execution_count": 30,
   "metadata": {},
   "outputs": [
    {
     "name": "stdout",
     "output_type": "stream",
     "text": [
      "    Sky  Airtemp Humidity      wind  water forecast enjoysport\n",
      "0  sunny    warm    normal  strong   warm      same        yes\n",
      "1  sunny    warm      high  strong   warm      same        yes\n",
      "2  rainy    cold      high  strong   warm    change         no\n",
      "3  sunny    warm      high  strong    cool   change        yes\n"
     ]
    }
   ],
   "source": [
    "import pandas as pd\n",
    "import csv\n",
    "data=pd.read_csv('4MT17CS035_Elveena.csv')\n",
    "columnLength=data.shape[1]\n",
    "print(data)"
   ]
  },
  {
   "cell_type": "code",
   "execution_count": 31,
   "metadata": {},
   "outputs": [],
   "source": [
    "h=['0']*(columnLength-1)\n",
    "hp=[]\n",
    "hn=[]"
   ]
  },
  {
   "cell_type": "code",
   "execution_count": 32,
   "metadata": {},
   "outputs": [],
   "source": [
    "for trainingExample in data.values:\n",
    "    if trainingExample[-1]!='no':\n",
    "        hp.append(list(trainingExample))\n",
    "    else:\n",
    "        hn.append(list(trainingExample))"
   ]
  },
  {
   "cell_type": "code",
   "execution_count": 33,
   "metadata": {},
   "outputs": [],
   "source": [
    "for i in range (len(hp)):\n",
    "    for j in range (columnLength-1):\n",
    "        if(h[j]=='0'):\n",
    "            h[j]=hp[i][j]\n",
    "        if(h[j]!=hp[i][j]):\n",
    "            h[j]='?'\n",
    "        else:\n",
    "            h[j]=hp[i][j]\n",
    "        "
   ]
  },
  {
   "cell_type": "code",
   "execution_count": 34,
   "metadata": {},
   "outputs": [
    {
     "name": "stdout",
     "output_type": "stream",
     "text": [
      "\n",
      " the positive Hypothesis are\n",
      "[['sunny', 'warm', 'normal', 'strong ', 'warm ', 'same', 'yes'], ['sunny', 'warm', 'high', 'strong ', 'warm ', 'same', 'yes'], ['sunny', 'warm', 'high', 'strong ', 'cool', 'change', 'yes']]\n",
      "\n",
      " the negative hypothesis are\n",
      "[['rainy', 'cold', 'high', 'strong ', 'warm ', 'change', 'no']]\n",
      "\n",
      " the maximally specific hypothesis is \n",
      "['sunny', 'warm', '?', 'strong ', '?', '?']\n"
     ]
    }
   ],
   "source": [
    "print('\\n the positive Hypothesis are')\n",
    "print(hp)\n",
    "print('\\n the negative hypothesis are')\n",
    "print(hn)\n",
    "print('\\n the maximally specific hypothesis is ')\n",
    "print(h)\n"
   ]
  },
  {
   "cell_type": "code",
   "execution_count": null,
   "metadata": {},
   "outputs": [],
   "source": []
  }
 ],
 "metadata": {
  "kernelspec": {
   "display_name": "Python 3",
   "language": "python",
   "name": "python3"
  },
  "language_info": {
   "codemirror_mode": {
    "name": "ipython",
    "version": 3
   },
   "file_extension": ".py",
   "mimetype": "text/x-python",
   "name": "python",
   "nbconvert_exporter": "python",
   "pygments_lexer": "ipython3",
   "version": "3.8.3"
  }
 },
 "nbformat": 4,
 "nbformat_minor": 4
}
